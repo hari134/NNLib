{
 "cells": [
  {
   "cell_type": "code",
   "execution_count": 1,
   "metadata": {
    "collapsed": true
   },
   "outputs": [],
   "source": [
    "import os, sys\n",
    "parent_dir = os.path.abspath('..')\n",
    "# the parent_dir could already be there if the kernel was not restarted,\n",
    "# and we run this cell again\n",
    "if parent_dir not in sys.path:\n",
    "    sys.path.append(parent_dir)\n"
   ]
  },
  {
   "cell_type": "code",
   "execution_count": 2,
   "metadata": {},
   "outputs": [],
   "source": [
    "#module imports\n",
    "import numpy as np\n",
    "import pandas as pd\n",
    "import NNLib.nn as nn\n",
    "import NNLib.optim as optim\n",
    "\n"
   ]
  },
  {
   "cell_type": "code",
   "execution_count": 3,
   "metadata": {},
   "outputs": [
    {
     "name": "stdout",
     "output_type": "stream",
     "text": [
      "(60000, 784)\n",
      "(60000, 10)\n",
      "(10000, 784)\n",
      "(10000, 10)\n"
     ]
    }
   ],
   "source": [
    "#load dataset csv\n",
    "#load dataset csv\n",
    "train_data = pd.read_csv('../Datasets/MNIST/mnist_train.csv')\n",
    "test_data = pd.read_csv('../Datasets/MNIST/mnist_test.csv')\n",
    "\n",
    "#train data\n",
    "x_train = train_data.drop('label',axis=1).to_numpy()\n",
    "y_train = pd.get_dummies(train_data['label']).values\n",
    "\n",
    "#test data\n",
    "x_test = test_data.drop('label',axis=1).to_numpy()\n",
    "y_test = pd.get_dummies(test_data['label']).values\n",
    "\n",
    "fac = 0.99 / 255\n",
    "x_train = np.asfarray(x_train) * fac + 0.01\n",
    "x_test = np.asfarray(x_test) * fac + 0.01\n",
    "\n",
    "\n",
    "print(np.shape(x_train))\n",
    "print(np.shape(y_train))\n",
    "\n",
    "\n",
    "print(np.shape(x_test))\n",
    "print(np.shape(y_test))\n"
   ]
  },
  {
   "cell_type": "code",
   "execution_count": 7,
   "metadata": {
    "collapsed": false
   },
   "outputs": [],
   "source": [
    "# defining the neural network\n",
    "\n",
    "class DenseNN(nn.Module):\n",
    "    def __init__(self, d0, d1, d2, d3):\n",
    "        self.Layers = self.Sequential(\n",
    "            [\n",
    "                nn.Linear(d0, d1),\n",
    "                nn.Sigmoid(),\n",
    "                nn.Linear(d1, d2),\n",
    "                nn.Sigmoid(),\n",
    "                nn.Linear(d2, d3),\n",
    "                nn.Softmax(),\n",
    "            ]\n",
    "        )\n",
    "\n",
    "    def forward(self, z0):\n",
    "        o = self.Layers.forward(z0)\n",
    "        return o"
   ]
  },
  {
   "cell_type": "code",
   "execution_count": 8,
   "metadata": {},
   "outputs": [],
   "source": [
    "network = DenseNN(784, 128, 64, 10)\n",
    "criterion = nn.MSE(network.parameters())\n",
    "optimizer = optim.SGD(network.parameters(), lr=0.01)\n",
    "\n",
    "\n",
    "def compute_accuracy():\n",
    "    predictions = []\n",
    "    for i in range(10000):\n",
    "        idx = i\n",
    "        a0 = x_test[idx]\n",
    "        a0 = np.array([a0]).T\n",
    "        o = y_test[idx]\n",
    "        o = np.array([o]).T\n",
    "        output = network.forward(a0)\n",
    "        pred = np.argmax(output)\n",
    "        predictions.append(pred == np.argmax(o))\n",
    "    return np.mean(predictions)\n",
    "\n",
    "\n",
    "def train(epochs, x_train, y_train, optimizer):\n",
    "    for epoch in range(epochs):\n",
    "        running_loss = 0\n",
    "        for i in range(60000):\n",
    "            a0 = np.array([x_train[i]]).T\n",
    "            y_true = np.array([y_train[i]]).T\n",
    "            y_pred = network.forward(a0)\n",
    "            loss = criterion(y_pred, y_true)\n",
    "            loss.backward()\n",
    "            optimizer.step()\n",
    "            running_loss += loss.item()\n",
    "        print(\n",
    "            \"epoch number :\",\n",
    "            str(epoch),\n",
    "            \", accuracy \",\n",
    "            str((compute_accuracy()) * 100),\n",
    "            \"%\",\n",
    "            \", loss : \", str(running_loss/60000)\n",
    "        )"
   ]
  },
  {
   "cell_type": "code",
   "execution_count": 9,
   "metadata": {},
   "outputs": [
    {
     "name": "stdout",
     "output_type": "stream",
     "text": [
      "epoch number : 0 , accuracy  55.44 % , loss :  [0.08000135]\n",
      "epoch number : 1 , accuracy  70.36 % , loss :  [0.06164555]\n",
      "epoch number : 2 , accuracy  74.46000000000001 % , loss :  [0.05148975]\n",
      "epoch number : 3 , accuracy  76.5 % , loss :  [0.04537647]\n"
     ]
    },
    {
     "ename": "KeyboardInterrupt",
     "evalue": "",
     "output_type": "error",
     "traceback": [
      "\u001b[0;31m---------------------------------------------------------------------------\u001b[0m",
      "\u001b[0;31mKeyboardInterrupt\u001b[0m                         Traceback (most recent call last)",
      "Cell \u001b[0;32mIn[9], line 1\u001b[0m\n\u001b[0;32m----> 1\u001b[0m train(\u001b[39m10\u001b[39;49m,x_train,y_train,optimizer)\n",
      "Cell \u001b[0;32mIn[8], line 26\u001b[0m, in \u001b[0;36mtrain\u001b[0;34m(epochs, x_train, y_train, optimizer)\u001b[0m\n\u001b[1;32m     24\u001b[0m a0 \u001b[39m=\u001b[39m np\u001b[39m.\u001b[39marray([x_train[i]])\u001b[39m.\u001b[39mT\n\u001b[1;32m     25\u001b[0m y_true \u001b[39m=\u001b[39m np\u001b[39m.\u001b[39marray([y_train[i]])\u001b[39m.\u001b[39mT\n\u001b[0;32m---> 26\u001b[0m y_pred \u001b[39m=\u001b[39m network\u001b[39m.\u001b[39;49mforward(a0)\n\u001b[1;32m     27\u001b[0m loss \u001b[39m=\u001b[39m criterion(y_pred, y_true)\n\u001b[1;32m     28\u001b[0m loss\u001b[39m.\u001b[39mbackward()\n",
      "Cell \u001b[0;32mIn[7], line 17\u001b[0m, in \u001b[0;36mDenseNN.forward\u001b[0;34m(self, z0)\u001b[0m\n\u001b[1;32m     16\u001b[0m \u001b[39mdef\u001b[39;00m \u001b[39mforward\u001b[39m(\u001b[39mself\u001b[39m, z0):\n\u001b[0;32m---> 17\u001b[0m     o \u001b[39m=\u001b[39m \u001b[39mself\u001b[39;49m\u001b[39m.\u001b[39;49mLayers\u001b[39m.\u001b[39;49mforward(z0)\n\u001b[1;32m     18\u001b[0m     \u001b[39mreturn\u001b[39;00m o\n",
      "File \u001b[0;32m~/Python_Projects/Neural_Networks_and_ML_Algorithms/NNLib/nn/Module.py:10\u001b[0m, in \u001b[0;36mLayerObj.forward\u001b[0;34m(self, input)\u001b[0m\n\u001b[1;32m      8\u001b[0m o \u001b[39m=\u001b[39m \u001b[39minput\u001b[39m\n\u001b[1;32m      9\u001b[0m \u001b[39mfor\u001b[39;00m layer \u001b[39min\u001b[39;00m \u001b[39mself\u001b[39m\u001b[39m.\u001b[39mlayers:\n\u001b[0;32m---> 10\u001b[0m     o \u001b[39m=\u001b[39m layer(o)\n\u001b[1;32m     11\u001b[0m \u001b[39mreturn\u001b[39;00m o\n",
      "File \u001b[0;32m~/Python_Projects/Neural_Networks_and_ML_Algorithms/NNLib/nn/Layers.py:48\u001b[0m, in \u001b[0;36mLinear.__call__\u001b[0;34m(self, input)\u001b[0m\n\u001b[1;32m     46\u001b[0m \u001b[39mdef\u001b[39;00m \u001b[39m__call__\u001b[39m(\u001b[39mself\u001b[39m, \u001b[39minput\u001b[39m):\n\u001b[1;32m     47\u001b[0m     \u001b[39mself\u001b[39m\u001b[39m.\u001b[39minput \u001b[39m=\u001b[39m \u001b[39minput\u001b[39m\n\u001b[0;32m---> 48\u001b[0m     \u001b[39mself\u001b[39m\u001b[39m.\u001b[39moutput \u001b[39m=\u001b[39m np\u001b[39m.\u001b[39;49mdot(\u001b[39mself\u001b[39;49m\u001b[39m.\u001b[39;49mweights, \u001b[39minput\u001b[39;49m) \u001b[39m+\u001b[39m \u001b[39mself\u001b[39m\u001b[39m.\u001b[39mbias\n\u001b[1;32m     49\u001b[0m     \u001b[39mreturn\u001b[39;00m \u001b[39mself\u001b[39m\u001b[39m.\u001b[39moutput\n",
      "File \u001b[0;32m<__array_function__ internals>:200\u001b[0m, in \u001b[0;36mdot\u001b[0;34m(*args, **kwargs)\u001b[0m\n",
      "\u001b[0;31mKeyboardInterrupt\u001b[0m: "
     ]
    }
   ],
   "source": [
    "train(10,x_train,y_train,optimizer)"
   ]
  }
 ],
 "metadata": {
  "kernelspec": {
   "display_name": "Neural_Networks_and_ML_Algorithms-1CuJRbZi",
   "language": "python",
   "name": "python3"
  },
  "language_info": {
   "codemirror_mode": {
    "name": "ipython",
    "version": 3
   },
   "file_extension": ".py",
   "mimetype": "text/x-python",
   "name": "python",
   "nbconvert_exporter": "python",
   "pygments_lexer": "ipython3",
   "version": "3.10.6"
  },
  "vscode": {
   "interpreter": {
    "hash": "205cc777e64f397ff50cdf89ac51ca358f3f5ec93061f145054b060fec99e1de"
   }
  }
 },
 "nbformat": 4,
 "nbformat_minor": 0
}
